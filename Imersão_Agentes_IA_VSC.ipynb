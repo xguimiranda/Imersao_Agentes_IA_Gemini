{
 "cells": [
  {
   "cell_type": "markdown",
   "metadata": {
    "id": "csMP5DEthxkc"
   },
   "source": [
    "#Aula 1 Versão para VSC"
   ]
  },
  {
   "cell_type": "code",
   "execution_count": 2,
   "metadata": {
    "colab": {
     "base_uri": "https://localhost:8080/"
    },
    "id": "mjXdvqUtaZLx",
    "outputId": "ad415201-a69b-448c-f619-3ae3df7b76a9"
   },
   "outputs": [
    {
     "name": "stdout",
     "output_type": "stream",
     "text": [
      "Note: you may need to restart the kernel to use updated packages.\n"
     ]
    },
    {
     "name": "stderr",
     "output_type": "stream",
     "text": [
      "\n",
      "[notice] A new release of pip is available: 24.3.1 -> 25.2\n",
      "[notice] To update, run: python.exe -m pip install --upgrade pip\n"
     ]
    }
   ],
   "source": [
    "%pip install -qU -r requirements.txt"
   ]
  },
  {
   "cell_type": "markdown",
   "metadata": {
    "id": "u6nViOkfqdp1"
   },
   "source": [
    "Importação da API Key com mudancas para funcionar no vsc"
   ]
  },
  {
   "cell_type": "code",
   "execution_count": null,
   "metadata": {
    "id": "wLhOCv1Ceccu"
   },
   "outputs": [
    {
     "name": "stderr",
     "output_type": "stream",
     "text": [
      "c:\\Users\\sagui\\OneDrive\\Documentos\\MeusProjetosGit\\Imersao_Agentes_IA_Gemini\\venv\\Lib\\site-packages\\tqdm\\auto.py:21: TqdmWarning: IProgress not found. Please update jupyter and ipywidgets. See https://ipywidgets.readthedocs.io/en/stable/user_install.html\n",
      "  from .autonotebook import tqdm as notebook_tqdm\n"
     ]
    },
    {
     "data": {
      "text/plain": [
       "\"\\nfrom google.colab import userdata\\nfrom langchain_google_genai import ChatGoogleGenerativeAI\\nGOOGLE_API_KEY = userdata.get('GEMINI_API_KEY')\\n\""
      ]
     },
     "execution_count": 3,
     "metadata": {},
     "output_type": "execute_result"
    }
   ],
   "source": [
    "\n",
    "import os, google.generativeai as genai\n",
    "from langchain_google_genai import ChatGoogleGenerativeAI\n",
    "from dotenv import load_dotenv\n",
    "load_dotenv()\n",
    "GOOGLE_API_KEY = os.getenv(\"GEMINI_API_KEY\")"
   ]
  },
  {
   "cell_type": "markdown",
   "metadata": {
    "id": "ERgMwMo7qe9p"
   },
   "source": [
    "Conexão com o Gemini"
   ]
  },
  {
   "cell_type": "code",
   "execution_count": 4,
   "metadata": {
    "id": "6_xPNeymgSj2"
   },
   "outputs": [],
   "source": [
    "from pydantic import SecretStr\n",
    "\n",
    "lln = ChatGoogleGenerativeAI(\n",
    "    model='gemini-2.5-flash',\n",
    "    temperature=0,\n",
    "    api_key=SecretStr(GOOGLE_API_KEY)\n",
    ")"
   ]
  },
  {
   "cell_type": "markdown",
   "metadata": {
    "id": "fnzbrytGqgnc"
   },
   "source": [
    "Teste básico do modelo com uma pergunta"
   ]
  },
  {
   "cell_type": "code",
   "execution_count": 5,
   "metadata": {
    "colab": {
     "base_uri": "https://localhost:8080/"
    },
    "id": "-mgZsVYsibFt",
    "outputId": "236a2fcf-c2c6-450e-c701-298a7cb63f5b"
   },
   "outputs": [
    {
     "name": "stdout",
     "output_type": "stream",
     "text": [
      "Eu sou um modelo de linguagem grande, treinado pelo Google.\n"
     ]
    }
   ],
   "source": [
    "resp_teste = lln.invoke('Quem é voce?')\n",
    "print(resp_teste.content)"
   ]
  },
  {
   "cell_type": "code",
   "execution_count": 6,
   "metadata": {
    "id": "cAmFf_KVjNZA"
   },
   "outputs": [],
   "source": [
    "TRIAGEM_PROMPT = (\n",
    "    \"Você é um triador de Service Desk para políticas internas da empresa Carraro Desenvolvimento. \"\n",
    "    \"Dada a mensagem do usuário, retorne SOMENTE um JSON com:\\n\"\n",
    "    \"{\\n\"\n",
    "    '  \"decisao\": \"AUTO_RESOLVER\" | \"PEDIR_INFO\" | \"ABRIR_CHAMADO\",\\n'\n",
    "    '  \"urgencia\": \"BAIXA\" | \"MEDIA\" | \"ALTA\",\\n'\n",
    "    '  \"campos_faltantes\": [\"...\"]\\n'\n",
    "    \"}\\n\"\n",
    "    \"Regras:\\n\"\n",
    "    '- **AUTO_RESOLVER**: Perguntas claras sobre regras ou procedimentos descritos nas políticas (Ex: \"Posso reembolsar a internet do meu home office?\", \"Como funciona a política de alimentação em viagens?\").\\n'\n",
    "    '- **PEDIR_INFO**: Mensagens vagas ou que faltam informações para identificar o tema ou contexto (Ex: \"Preciso de ajuda com uma política\", \"Tenho uma dúvida geral\").\\n'\n",
    "    '- **ABRIR_CHAMADO**: Pedidos de exceção, liberação, aprovação ou acesso especial, ou quando o usuário explicitamente pede para abrir um chamado (Ex: \"Quero exceção para trabalhar 5 dias remoto.\", \"Solicito liberação para anexos externos.\", \"Por favor, abra um chamado para o RH.\").'\n",
    ")"
   ]
  },
  {
   "cell_type": "markdown",
   "metadata": {
    "id": "ar_w7BtdqbBP"
   },
   "source": [
    "Definição do Modelo de Saída com Pydantic"
   ]
  },
  {
   "cell_type": "code",
   "execution_count": 7,
   "metadata": {
    "id": "piSiW1rWlAnz"
   },
   "outputs": [],
   "source": [
    "from pydantic import BaseModel, Field\n",
    "from typing import Literal, List, Dict\n",
    "\n",
    "class TriagemOut(BaseModel):\n",
    "  decisao: Literal['AUTO_RESOLVER', 'PEDIR_INFO', 'ABRIR_CHAMADO']\n",
    "  urgencia: Literal[\"BAIXA\", \"MEDIA\", \"ALTA\"]\n",
    "  campos_faltantes: List[str] = Field(default_factory=list)"
   ]
  },
  {
   "cell_type": "markdown",
   "metadata": {
    "id": "vvF2TROdqk7L"
   },
   "source": [
    "Criação do LLM para Classificação e da Chain"
   ]
  },
  {
   "cell_type": "code",
   "execution_count": 8,
   "metadata": {
    "id": "xZdJJIYlmBoa"
   },
   "outputs": [],
   "source": [
    "lln_triagem = ChatGoogleGenerativeAI (\n",
    "    model='gemini-2.5-flash',\n",
    "    temperature=0,\n",
    "    api_key=SecretStr(GOOGLE_API_KEY)\n",
    ")"
   ]
  },
  {
   "cell_type": "markdown",
   "metadata": {
    "id": "sboIyeHiqmm7"
   },
   "source": [
    "Importa mensagens e cria a chain com saída estruturada."
   ]
  },
  {
   "cell_type": "code",
   "execution_count": 9,
   "metadata": {
    "id": "0K8hPxg3mWut"
   },
   "outputs": [],
   "source": [
    "from langchain_core.messages import SystemMessage, HumanMessage\n",
    "\n",
    "triagem_chain = lln_triagem.with_structured_output(TriagemOut)\n",
    "\n",
    "def triagem(mensagem : str) -> Dict:\n",
    "  saida: TriagemOut = triagem_chain.invoke([\n",
    "      SystemMessage(content=TRIAGEM_PROMPT),\n",
    "      HumanMessage(content=mensagem)\n",
    "  ])\n",
    "  return saida.model_dump()"
   ]
  },
  {
   "cell_type": "markdown",
   "metadata": {
    "id": "Cwc2OUVCqoNV"
   },
   "source": [
    "Testes do Agente"
   ]
  },
  {
   "cell_type": "code",
   "execution_count": 10,
   "metadata": {
    "id": "CN2WpRUkohGJ"
   },
   "outputs": [
    {
     "name": "stdout",
     "output_type": "stream",
     "text": [
      "Pergunta: Posso reembolsar a internet?\n",
      " -> Resposta: {'decisao': 'AUTO_RESOLVER', 'urgencia': 'BAIXA', 'campos_faltantes': []}\n",
      "\n",
      "Pergunta: Quero ter mais 5 dias remoto, Como faco?\n",
      " -> Resposta: {'decisao': 'ABRIR_CHAMADO', 'urgencia': 'MEDIA', 'campos_faltantes': []}\n",
      "\n",
      "Pergunta: Posso reembolsar cursos ou treinamentos do Alura\n",
      " -> Resposta: {'decisao': 'AUTO_RESOLVER', 'urgencia': 'BAIXA', 'campos_faltantes': []}\n",
      "\n",
      "Pergunta: Quantas capivaras tem no Rio Pinheiros?\n",
      " -> Resposta: {'decisao': 'PEDIR_INFO', 'urgencia': 'BAIXA', 'campos_faltantes': ['informação sobre políticas internas da empresa']}\n",
      "\n"
     ]
    }
   ],
   "source": [
    "testes =  [\"Posso reembolsar a internet?\",\n",
    "           \"Quero ter mais 5 dias remoto, Como faco?\",\n",
    "           \"Posso reembolsar cursos ou treinamentos do Alura\",\n",
    "           \"Quantas capivaras tem no Rio Pinheiros?\"]\n",
    "\n",
    "for msg_teste in testes:\n",
    "  print(f\"Pergunta: {msg_teste}\\n -> Resposta: {triagem(msg_teste)}\\n\")"
   ]
  }
 ],
 "metadata": {
  "colab": {
   "authorship_tag": "ABX9TyMwh6XSDIGtXGWowZNZLyxK",
   "provenance": []
  },
  "kernelspec": {
   "display_name": "venv",
   "language": "python",
   "name": "python3"
  },
  "language_info": {
   "codemirror_mode": {
    "name": "ipython",
    "version": 3
   },
   "file_extension": ".py",
   "mimetype": "text/x-python",
   "name": "python",
   "nbconvert_exporter": "python",
   "pygments_lexer": "ipython3",
   "version": "3.13.2"
  }
 },
 "nbformat": 4,
 "nbformat_minor": 0
}
